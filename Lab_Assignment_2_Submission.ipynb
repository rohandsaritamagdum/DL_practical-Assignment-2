{
  "nbformat": 4,
  "nbformat_minor": 0,
  "metadata": {
    "colab": {
      "provenance": []
    },
    "kernelspec": {
      "name": "python3",
      "display_name": "Python 3"
    },
    "language_info": {
      "name": "python"
    }
  },
  "cells": [
    {
      "cell_type": "markdown",
      "source": [
        "# Google Colab Lab Assignment -Pretrained Model\n",
        "\n",
        "**Course Name:** Deep Learning\n",
        "\n",
        "**Lab Title:** Research Paper Implementation with Pre-trained Model(Tilte of Research Paper)\n",
        "\n",
        "**Student Name:** Rohan Magdum\n",
        "\n",
        "**Student ID:** 202201040108\n",
        "\n",
        "**Date of Submission:** 24 / 02 /2025\n",
        "\n",
        "**Group Members**: Rohan Magdum , Yashas Nepalia\n",
        "\n",
        "**Research Paper Study and Implementation**\n",
        "\n",
        "**Instructions:**\n",
        "\n",
        "1. Identify a research paper that utilizes a pre-trained model for a specific\n",
        "task.\n",
        "\n",
        "2. Study the methodology, dataset, and model used in the research paper.\n",
        "\n",
        "3. Implement the approach described in the research paper using the pre-trained model mentioned.\n",
        "\n",
        "4. Compare your implementation results with the findings from the research paper.\n"
      ],
      "metadata": {
        "id": "KRS_r90YMbta"
      }
    },
    {
      "cell_type": "markdown",
      "source": [
        "**Objective**\n",
        "1.   Study a research paper utilizing a pre-trained model.\n",
        "2.   Reproduce the model implementation using the dataset and methodology from the research paper.\n",
        "3.   Fine-tune the pre-trained model and optimize hyperparameters.\n",
        "3.   Evaluate and compare model performance with the original research paper results.\n",
        "\n",
        "\n",
        "\n",
        "\n",
        "\n",
        "\n",
        "\n"
      ],
      "metadata": {
        "id": "x1bukTjpNEze"
      }
    },
    {
      "cell_type": "markdown",
      "source": [
        "**Task 1: Research Paper Selection and Dataset Preparation (2 hours)**\n",
        "\n",
        "**Instructions:**\n",
        "\n",
        "1. Select a research paper that applies a pre-trained model (e.g., VGG, ResNet, EfficientNet, etc.).\n",
        "\n",
        "2. Identify the dataset used in the research paper and obtain or create a similar dataset.(**Mention Dataset Link and Description**)\n",
        "\n",
        "3. Perform necessary preprocessing steps:\n",
        "\n",
        " Resize images to match the model input dimensions.\n",
        "\n",
        " Apply data augmentation techniques if applicable.\n",
        "\n",
        "4. Split the dataset into training, validation, and testing sets."
      ],
      "metadata": {
        "id": "MD4ComqSNYGw"
      }
    },
    {
      "cell_type": "code",
      "source": [
        "import os\n",
        "import numpy as np\n",
        "import struct\n",
        "import tensorflow as tf\n",
        "import matplotlib.pyplot as plt\n",
        "from sklearn.model_selection import train_test_split\n",
        "\n",
        "# ✅ Path to mounted Google Drive folder\n",
        "dataset_path = \"/content/drive/MyDrive/dataset\"\n",
        "\n",
        "# Function to load MNIST-like dataset from ubyte files\n",
        "def load_mnist_images(filename):\n",
        "    try:\n",
        "        with open(filename, 'rb') as f:\n",
        "            _, num, rows, cols = struct.unpack(\">IIII\", f.read(16))  # Read metadata\n",
        "            images = np.frombuffer(f.read(), dtype=np.uint8).reshape(num, 28, 28, 1)\n",
        "        return images.astype(np.float32) / 255.0  # Normalize images\n",
        "    except Exception as e:\n",
        "        print(f\"Error loading {filename}: {e}\")\n",
        "        return np.array([])\n",
        "\n",
        "def load_mnist_labels(filename):\n",
        "    try:\n",
        "        with open(filename, 'rb') as f:\n",
        "            _, num = struct.unpack(\">II\", f.read(8))\n",
        "            labels = np.frombuffer(f.read(), dtype=np.uint8)\n",
        "        return labels\n",
        "    except Exception as e:\n",
        "        print(f\"Error loading {filename}: {e}\")\n",
        "        return np.array([])\n",
        "\n",
        "# ✅ Load dataset using updated Google Drive path\n",
        "train_images = load_mnist_images(os.path.join(dataset_path, 'train-images-idx3-ubyte'))\n",
        "train_labels = load_mnist_labels(os.path.join(dataset_path, 'train-labels-idx1-ubyte'))\n",
        "test_images = load_mnist_images(os.path.join(dataset_path, 't10k-images-idx3-ubyte'))\n",
        "test_labels = load_mnist_labels(os.path.join(dataset_path, 't10k-labels-idx1-ubyte'))\n",
        "\n",
        "# Check if data loaded properly\n",
        "if len(train_images) == 0 or len(train_labels) == 0:\n",
        "    print(\"❌ Error: Failed to load training dataset!\")\n",
        "    exit()\n",
        "if len(test_images) == 0 or len(test_labels) == 0:\n",
        "    print(\"❌ Error: Failed to load test dataset!\")\n",
        "    exit()\n",
        "\n",
        "print(f\"Train Images: {train_images.shape}, Train Labels: {train_labels.shape}\")\n",
        "print(f\"Test Images: {test_images.shape}, Test Labels: {test_labels.shape}\")\n",
        "\n",
        "# Split into training and validation sets\n",
        "X_train, X_val, y_train, y_val = train_test_split(train_images, train_labels, test_size=0.2, random_state=42)\n",
        "\n",
        "# Preprocessing function\n",
        "def preprocess_image(image, label):\n",
        "    image = tf.image.resize(image, (224, 224))\n",
        "    return image, label\n",
        "\n",
        "batch_size = 32\n",
        "\n",
        "# TensorFlow Datasets\n",
        "train_dataset = tf.data.Dataset.from_tensor_slices((X_train, y_train)).map(preprocess_image).batch(batch_size).shuffle(1000).prefetch(tf.data.AUTOTUNE)\n",
        "val_dataset = tf.data.Dataset.from_tensor_slices((X_val, y_val)).map(preprocess_image).batch(batch_size).prefetch(tf.data.AUTOTUNE)\n",
        "test_dataset = tf.data.Dataset.from_tensor_slices((test_images, test_labels)).map(preprocess_image).batch(batch_size).prefetch(tf.data.AUTOTUNE)\n",
        "\n",
        "# Display sample images\n",
        "plt.figure(figsize=(10, 5))\n",
        "for i, (img, lbl) in enumerate(train_dataset.take(5)):\n",
        "    plt.subplot(1, 5, i + 1)\n",
        "    plt.imshow(tf.squeeze(img[0]), cmap='gray')\n",
        "    plt.title(f\"Label: {int(lbl[0])}\")\n",
        "    plt.axis('off')\n",
        "plt.show()\n",
        "\n",
        "print(\"✅ Preprocessing Completed Successfully!\")\n"
      ],
      "metadata": {
        "id": "b85tIhfNNDlo",
        "outputId": "792841fa-aaf9-45cf-e023-65146f03b89b",
        "colab": {
          "base_uri": "https://localhost:8080/",
          "height": 244
        }
      },
      "execution_count": 5,
      "outputs": [
        {
          "output_type": "stream",
          "name": "stdout",
          "text": [
            "Train Images: (60000, 28, 28, 1), Train Labels: (60000,)\n",
            "Test Images: (10000, 28, 28, 1), Test Labels: (10000,)\n"
          ]
        },
        {
          "output_type": "display_data",
          "data": {
            "text/plain": [
              "<Figure size 1000x500 with 5 Axes>"
            ],
            "image/png": "[encoded data removed]"
          },
          "metadata": {}
        },
        {
          "output_type": "stream",
          "name": "stdout",
          "text": [
            "✅ Preprocessing Completed Successfully!\n"
          ]
        }
      ]
    },
    {
      "cell_type": "markdown",
      "source": [
        "**Task 2: Model Implementation and Fine-tuning**\n",
        "\n",
        "**Instructions:**\n",
        "\n",
        "1. Implement the pre-trained model as described in the research paper.\n",
        "\n",
        "2. Visualize feature maps of few layers\n",
        "\n",
        "3. Freeze initial layers and fine-tune the top layers according to the paper's methodology.\n",
        "\n",
        "4. Optimize hyperparameters such as:\n",
        "\n",
        "  Learning rate\n",
        "\n",
        "  Batch size\n",
        "\n",
        "  Number of epochs\n",
        "\n",
        "  Optimizer choice (Adam, SGD, RMSprop, etc.)\n",
        "\n",
        "4. Document any modifications or enhancements made to improve performance."
      ],
      "metadata": {
        "id": "8ezJvo9rNwsg"
      }
    },
    {
      "cell_type": "code",
      "source": [
        "import os\n",
        "import tensorflow as tf\n",
        "from tensorflow.keras.applications import MobileNetV2\n",
        "from tensorflow.keras.models import Model\n",
        "from tensorflow.keras.layers import Dense, Flatten\n",
        "from tensorflow.keras.preprocessing.image import ImageDataGenerator\n",
        "\n",
        "# Set your dataset path - change this to the path of your Google Drive\n",
        "DATASET_PATH = \"/content/drive/MyDrive/dataset\"\n",
        "\n",
        "# Verify the dataset directory exists\n",
        "if not os.path.exists(DATASET_PATH):\n",
        "    raise FileNotFoundError(f\"Dataset directory not found: {DATASET_PATH}\")\n",
        "\n",
        "# Print directory structure for debugging\n",
        "print(f\"Dataset directory: {DATASET_PATH}\")\n",
        "print(\"Contents:\")\n",
        "# List the main directory and immediate subdirectories only\n",
        "print(f\"Main directory: {os.listdir(DATASET_PATH)}\")\n",
        "subdirs = [d for d in os.listdir(DATASET_PATH) if os.path.isdir(os.path.join(DATASET_PATH, d))]\n",
        "for subdir in subdirs:\n",
        "    subdir_path = os.path.join(DATASET_PATH, subdir)\n",
        "    files = os.listdir(subdir_path)[:5] if os.listdir(subdir_path) else 'Empty'\n",
        "    print(f\"Subdirectory {subdir}: {files}\")\n",
        "\n",
        "# Load Pre-trained MobileNetV2 Model (without top layers)\n",
        "base_model = MobileNetV2(weights=\"imagenet\", include_top=False, input_shape=(224, 224, 3))\n",
        "\n",
        "# Freeze initial layers\n",
        "for layer in base_model.layers[:50]:\n",
        "    layer.trainable = False\n",
        "\n",
        "# Add custom layers\n",
        "x = Flatten()(base_model.output)\n",
        "x = Dense(128, activation=\"relu\")(x)\n",
        "output = Dense(2, activation=\"softmax\")(x)  # Change 2 to your number of classes\n",
        "\n",
        "# Create model\n",
        "model = Model(inputs=base_model.input, outputs=output)\n",
        "\n",
        "# Compile model\n",
        "model.compile(optimizer=\"adam\", loss=\"sparse_categorical_crossentropy\", metrics=[\"accuracy\"])\n",
        "\n",
        "# Data Generator with data augmentation\n",
        "datagen = ImageDataGenerator(\n",
        "    rescale=1./255,\n",
        "    validation_split=0.2,\n",
        "    rotation_range=20,\n",
        "    width_shift_range=0.2,\n",
        "    height_shift_range=0.2,\n",
        "    shear_range=0.2,\n",
        "    zoom_range=0.2,\n",
        "    horizontal_flip=True,\n",
        ")\n",
        "\n",
        "# Create data generators - make sure the dataset directory has class subdirectories\n",
        "try:\n",
        "    train_generator = datagen.flow_from_directory(\n",
        "        DATASET_PATH,\n",
        "        target_size=(224, 224),\n",
        "        batch_size=16,\n",
        "        class_mode='sparse',\n",
        "        subset='training'\n",
        "    )\n",
        "\n",
        "    val_generator = datagen.flow_from_directory(\n",
        "        DATASET_PATH,\n",
        "        target_size=(224, 224),\n",
        "        batch_size=16,\n",
        "        class_mode='sparse',\n",
        "        subset='validation'\n",
        "    )\n",
        "\n",
        "    # Print information about the generators\n",
        "    print(f\"Found {len(train_generator.class_indices)} classes\")\n",
        "    print(f\"Class mapping: {train_generator.class_indices}\")\n",
        "    print(f\"Training samples: {train_generator.samples}\")\n",
        "    print(f\"Validation samples: {val_generator.samples}\")\n",
        "\n",
        "    # Only proceed with training if we have samples\n",
        "    if train_generator.samples > 0 and val_generator.samples > 0:\n",
        "        # Train model\n",
        "        history = model.fit(\n",
        "            train_generator,\n",
        "            validation_data=val_generator,\n",
        "            epochs=5,\n",
        "            callbacks=[\n",
        "                tf.keras.callbacks.EarlyStopping(patience=2, restore_best_weights=True)\n",
        "            ]\n",
        "        )\n",
        "\n",
        "        print(\"✅ Model Training Complete!\")\n",
        "\n",
        "        # Save the model\n",
        "        model.save(\"mobilenet_classifier.h5\")\n",
        "        print(\"✅ Model Saved!\")\n",
        "    else:\n",
        "        print(\"⚠️ No samples found in the data generators. Check your dataset structure.\")\n",
        "\n",
        "except Exception as e:\n",
        "    print(f\"⚠️ Error occurred: {str(e)}\")\n",
        "    print(\"\\nExpected dataset structure:\")\n",
        "    print(\"dataset/\")\n",
        "    print(\"├── class1/\")  # Example class\n",
        "    print(\"│   ├── image1.jpg\")\n",
        "    print(\"│   └── image2.jpg\")\n",
        "    print(\"└── class2/\")  # Example class\n",
        "    print(\"    ├── image1.jpg\")\n",
        "    print(\"    └── image2.jpg\")\n"
      ],
      "metadata": {
        "id": "0U8RIdCPNo3J",
        "outputId": "01a7e928-dcaa-4146-8510-f1cb5c0e6204",
        "colab": {
          "base_uri": "https://localhost:8080/"
        }
      },
      "execution_count": 6,
      "outputs": [
        {
          "metadata": {
            "tags": null
          },
          "name": "stdout",
          "output_type": "stream",
          "text": [
            "Dataset directory: /content/drive/MyDrive/dataset\n",
            "Contents:\n",
            "Main directory: ['fashion-mnist_test.csv', 't10k-labels-idx1-ubyte', 'train-labels-idx1-ubyte', 'train-images-idx3-ubyte', 't10k-images-idx3-ubyte', 'fashion-mnist_train.csv']\n",
            "Downloading data from https://storage.googleapis.com/tensorflow/keras-applications/mobilenet_v2/mobilenet_v2_weights_tf_dim_ordering_tf_kernels_1.0_224_no_top.h5\n",
            "\u001b[1m9406464/9406464\u001b[0m \u001b[32m━━━━━━━━━━━━━━━━━━━━\u001b[0m\u001b[37m\u001b[0m \u001b[1m0s\u001b[0m 0us/step\n",
            "Found 0 images belonging to 0 classes.\n",
            "Found 0 images belonging to 0 classes.\n",
            "Found 0 classes\n",
            "Class mapping: {}\n",
            "Training samples: 0\n",
            "Validation samples: 0\n",
            "⚠️ No samples found in the data generators. Check your dataset structure.\n"
          ]
        }
      ]
    },
    {
      "cell_type": "code",
      "source": [],
      "metadata": {
        "id": "mjkP3daREHjx",
        "outputId": "deb59904-8955-4e5d-ea4d-93233d3f89a3",
        "colab": {
          "base_uri": "https://localhost:8080/"
        }
      },
      "execution_count": 4,
      "outputs": [
        {
          "output_type": "stream",
          "name": "stdout",
          "text": [
            "Mounted at /content/drive\n"
          ]
        }
      ]
    },
    {
      "cell_type": "markdown",
      "source": [
        "**Task 3: Model Evaluation and Performance Comparison**\n",
        "\n",
        "**Instructions:**\n",
        "\n",
        "1. Evaluate the trained model using performance metrics:\n",
        "\n",
        " Accuracy, Precision,Recall, F1-score, Confusion Matrix (for classification tasks)\n",
        "\n",
        "2. Compare the results with those reported in the research paper.\n",
        "\n",
        "3. Identify potential weaknesses and suggest improvements.\n",
        "**Deliverables:**\n",
        "\n",
        "Performance metrics summary (table or chart).\n",
        "\n",
        "Graphs/plots showcasing model accuracy and loss trends.\n",
        "\n",
        "Comparison with research paper results.\n",
        "\n",
        "Discussion on model performance and areas for improvement."
      ],
      "metadata": {
        "id": "MNDL5cN0M-xP"
      }
    },
    {
      "cell_type": "code",
      "execution_count": 7,
      "metadata": {
        "id": "GJDKxaIdL__E",
        "outputId": "cf0fc504-ab84-42bd-e861-d91951f8fbbb",
        "colab": {
          "base_uri": "https://localhost:8080/"
        }
      },
      "outputs": [
        {
          "output_type": "stream",
          "name": "stdout",
          "text": [
            "Collecting keras_tuner\n",
            "  Downloading keras_tuner-1.4.7-py3-none-any.whl.metadata (5.4 kB)\n",
            "Requirement already satisfied: keras in /usr/local/lib/python3.11/dist-packages (from keras_tuner) (3.8.0)\n",
            "Requirement already satisfied: packaging in /usr/local/lib/python3.11/dist-packages (from keras_tuner) (24.2)\n",
            "Requirement already satisfied: requests in /usr/local/lib/python3.11/dist-packages (from keras_tuner) (2.32.3)\n",
            "Collecting kt-legacy (from keras_tuner)\n",
            "  Downloading kt_legacy-1.0.5-py3-none-any.whl.metadata (221 bytes)\n",
            "Requirement already satisfied: absl-py in /usr/local/lib/python3.11/dist-packages (from keras->keras_tuner) (1.4.0)\n",
            "Requirement already satisfied: numpy in /usr/local/lib/python3.11/dist-packages (from keras->keras_tuner) (2.0.2)\n",
            "Requirement already satisfied: rich in /usr/local/lib/python3.11/dist-packages (from keras->keras_tuner) (13.9.4)\n",
            "Requirement already satisfied: namex in /usr/local/lib/python3.11/dist-packages (from keras->keras_tuner) (0.0.9)\n",
            "Requirement already satisfied: h5py in /usr/local/lib/python3.11/dist-packages (from keras->keras_tuner) (3.13.0)\n",
            "Requirement already satisfied: optree in /usr/local/lib/python3.11/dist-packages (from keras->keras_tuner) (0.15.0)\n",
            "Requirement already satisfied: ml-dtypes in /usr/local/lib/python3.11/dist-packages (from keras->keras_tuner) (0.4.1)\n",
            "Requirement already satisfied: charset-normalizer<4,>=2 in /usr/local/lib/python3.11/dist-packages (from requests->keras_tuner) (3.4.1)\n",
            "Requirement already satisfied: idna<4,>=2.5 in /usr/local/lib/python3.11/dist-packages (from requests->keras_tuner) (3.10)\n",
            "Requirement already satisfied: urllib3<3,>=1.21.1 in /usr/local/lib/python3.11/dist-packages (from requests->keras_tuner) (2.4.0)\n",
            "Requirement already satisfied: certifi>=2017.4.17 in /usr/local/lib/python3.11/dist-packages (from requests->keras_tuner) (2025.4.26)\n",
            "Requirement already satisfied: typing-extensions>=4.5.0 in /usr/local/lib/python3.11/dist-packages (from optree->keras->keras_tuner) (4.13.2)\n",
            "Requirement already satisfied: markdown-it-py>=2.2.0 in /usr/local/lib/python3.11/dist-packages (from rich->keras->keras_tuner) (3.0.0)\n",
            "Requirement already satisfied: pygments<3.0.0,>=2.13.0 in /usr/local/lib/python3.11/dist-packages (from rich->keras->keras_tuner) (2.19.1)\n",
            "Requirement already satisfied: mdurl~=0.1 in /usr/local/lib/python3.11/dist-packages (from markdown-it-py>=2.2.0->rich->keras->keras_tuner) (0.1.2)\n",
            "Downloading keras_tuner-1.4.7-py3-none-any.whl (129 kB)\n",
            "\u001b[2K   \u001b[90m━━━━━━━━━━━━━━━━━━━━━━━━━━━━━━━━━━━━━━━━\u001b[0m \u001b[32m129.1/129.1 kB\u001b[0m \u001b[31m3.1 MB/s\u001b[0m eta \u001b[36m0:00:00\u001b[0m\n",
            "\u001b[?25hDownloading kt_legacy-1.0.5-py3-none-any.whl (9.6 kB)\n",
            "Installing collected packages: kt-legacy, keras_tuner\n",
            "Successfully installed keras_tuner-1.4.7 kt-legacy-1.0.5\n"
          ]
        }
      ],
      "source": [
        "!pip install keras_tuner"
      ]
    },
    {
      "cell_type": "code",
      "source": [
        "import tensorflow as tf\n",
        "import numpy as np\n",
        "\n",
        "# Load CIFAR-10 dataset (without directly converting to NumPy arrays)\n",
        "(train_images, train_labels), (test_images, test_labels) = tf.keras.datasets.cifar10.load_data()\n",
        "\n",
        "# Function to preprocess images safely\n",
        "def preprocess_image(image, label):\n",
        "    image = tf.image.convert_image_dtype(image, tf.float32)  # Normalize to [0,1]\n",
        "    return image, tf.one_hot(label[0], depth=10)  # One-hot encode labels\n",
        "\n",
        "# Convert dataset to tf.data pipeline (processes data dynamically to save memory)\n",
        "train_dataset = (\n",
        "    tf.data.Dataset.from_tensor_slices((train_images, train_labels))\n",
        "    .map(preprocess_image, num_parallel_calls=tf.data.AUTOTUNE)\n",
        "    .batch(32)\n",
        "    .prefetch(tf.data.AUTOTUNE)  # Optimizes memory and GPU usage\n",
        ")\n",
        "\n",
        "test_dataset = (\n",
        "    tf.data.Dataset.from_tensor_slices((test_images, test_labels))\n",
        "    .map(preprocess_image, num_parallel_calls=tf.data.AUTOTUNE)\n",
        "    .batch(32)\n",
        "    .prefetch(tf.data.AUTOTUNE)\n",
        ")\n",
        "\n",
        "# Check dataset size\n",
        "print(f\"Train dataset ready with {len(train_images)} samples\")\n",
        "print(f\"Test dataset ready with {len(test_images)} samples\")"
      ],
      "metadata": {
        "id": "_OCiEiAmKOTe",
        "outputId": "12f3581b-fe35-49a8-b310-87a7eb51e41e",
        "colab": {
          "base_uri": "https://localhost:8080/"
        }
      },
      "execution_count": 8,
      "outputs": [
        {
          "output_type": "stream",
          "name": "stdout",
          "text": [
            "Downloading data from https://www.cs.toronto.edu/~kriz/cifar-10-python.tar.gz\n",
            "\u001b[1m170498071/170498071\u001b[0m \u001b[32m━━━━━━━━━━━━━━━━━━━━\u001b[0m\u001b[37m\u001b[0m \u001b[1m5s\u001b[0m 0us/step\n",
            "Train dataset ready with 50000 samples\n",
            "Test dataset ready with 10000 samples\n"
          ]
        }
      ]
    },
    {
      "cell_type": "code",
      "source": [
        "import os\n",
        "import tensorflow as tf\n",
        "import numpy as np\n",
        "import matplotlib.pyplot as plt\n",
        "from sklearn.metrics import accuracy_score, precision_score, recall_score, f1_score, confusion_matrix\n",
        "import seaborn as sns\n",
        "\n",
        "\n",
        "# Verify the dataset directory exists\n",
        "if not os.path.exists(DATASET_PATH):\n",
        "    raise FileNotFoundError(f\"Dataset directory not found: {DATASET_PATH}\")\n",
        "\n",
        "# Print directory structure for debugging\n",
        "print(f\"Dataset directory: {DATASET_PATH}\")\n",
        "print(\"Contents:\")\n",
        "# List the main directory and immediate subdirectories only\n",
        "print(f\"Main directory: {os.listdir(DATASET_PATH)}\")\n",
        "subdirs = [d for d in os.listdir(DATASET_PATH) if os.path.isdir(os.path.join(DATASET_PATH, d))]\n",
        "for subdir in subdirs:\n",
        "    subdir_path = os.path.join(DATASET_PATH, subdir)\n",
        "    files = os.listdir(subdir_path)[:5] if os.listdir(subdir_path) else 'Empty'\n",
        "    print(f\"Subdirectory {subdir}: {files}\")\n",
        "\n",
        "# Load MNIST dataset\n",
        "(train_images, train_labels), (test_images, test_labels) = tf.keras.datasets.mnist.load_data()\n",
        "\n",
        "# Normalize images to [0,1] range\n",
        "train_images, test_images = train_images / 255.0, test_images / 255.0\n",
        "\n",
        "# Reshape images to (28, 28, 1) for CNN\n",
        "train_images = train_images.reshape(-1, 28, 28, 1)\n",
        "test_images = test_images.reshape(-1, 28, 28, 1)\n",
        "\n",
        "# Define a CNN model\n",
        "model = tf.keras.models.Sequential([\n",
        "    tf.keras.layers.Conv2D(32, (3, 3), activation='relu', input_shape=(28, 28, 1)),\n",
        "    tf.keras.layers.MaxPooling2D((2, 2)),\n",
        "    tf.keras.layers.Conv2D(64, (3, 3), activation='relu'),\n",
        "    tf.keras.layers.MaxPooling2D((2, 2)),\n",
        "    tf.keras.layers.Flatten(),\n",
        "    tf.keras.layers.Dense(128, activation='relu'),\n",
        "    tf.keras.layers.Dense(10, activation='softmax')  # 10 classes for MNIST digits\n",
        "])\n",
        "\n",
        "# Compile the model\n",
        "model.compile(optimizer='adam', loss='sparse_categorical_crossentropy', metrics=['accuracy'])\n",
        "\n",
        "# Train the model\n",
        "model.fit(train_images, train_labels, validation_data=(test_images, test_labels), epochs=5, batch_size=32)\n",
        "\n",
        "# Save the trained model\n",
        "model_save_path = os.path.join(DATASET_PATH, \"mnist_model.h5\")\n",
        "model.save(model_save_path)\n",
        "print(f\"✅ Model saved as {model_save_path}\")\n",
        "\n",
        "# Load the saved model\n",
        "model = tf.keras.models.load_model(model_save_path)\n",
        "print(\"✅ Model loaded successfully\")\n",
        "\n",
        "# Make predictions on test set\n",
        "y_pred_probs = model.predict(test_images)  # Get probability outputs\n",
        "y_pred = np.argmax(y_pred_probs, axis=1)  # Convert to class labels\n",
        "\n",
        "# Calculate evaluation metrics\n",
        "accuracy = accuracy_score(test_labels, y_pred)\n",
        "precision = precision_score(test_labels, y_pred, average='macro')  # Macro avg for multi-class\n",
        "recall = recall_score(test_labels, y_pred, average='macro')\n",
        "f1 = f1_score(test_labels, y_pred, average='macro')\n",
        "conf_matrix = confusion_matrix(test_labels, y_pred)\n",
        "\n",
        "# Print results\n",
        "print(f\"📌 Accuracy: {accuracy:.4f}\")\n",
        "print(f\"📌 Precision: {precision:.4f}\")\n",
        "print(f\"📌 Recall: {recall:.4f}\")\n",
        "print(f\"📌 F1 Score: {f1:.4f}\")\n",
        "\n",
        "# Plot confusion matrix\n",
        "plt.figure(figsize=(8, 6))\n",
        "sns.heatmap(conf_matrix, annot=True, fmt='d', cmap='Blues', xticklabels=range(10), yticklabels=range(10))\n",
        "plt.xlabel(\"Predicted Label\")\n",
        "plt.ylabel(\"True Label\")\n",
        "plt.title(\"Confusion Matrix\")\n",
        "plt.show()\n"
      ],
      "metadata": {
        "id": "uu28pRQcLM3A",
        "outputId": "0a39a304-59c0-4358-e63b-6192e5871533",
        "colab": {
          "base_uri": "https://localhost:8080/",
          "height": 1000
        }
      },
      "execution_count": 9,
      "outputs": [
        {
          "output_type": "stream",
          "name": "stdout",
          "text": [
            "Dataset directory: /content/drive/MyDrive/dataset\n",
            "Contents:\n",
            "Main directory: ['fashion-mnist_test.csv', 't10k-labels-idx1-ubyte', 'train-labels-idx1-ubyte', 'train-images-idx3-ubyte', 't10k-images-idx3-ubyte', 'fashion-mnist_train.csv']\n",
            "Downloading data from https://storage.googleapis.com/tensorflow/tf-keras-datasets/mnist.npz\n",
            "\u001b[1m11490434/11490434\u001b[0m \u001b[32m━━━━━━━━━━━━━━━━━━━━\u001b[0m\u001b[37m\u001b[0m \u001b[1m0s\u001b[0m 0us/step\n"
          ]
        },
        {
          "output_type": "stream",
          "name": "stderr",
          "text": [
            "/usr/local/lib/python3.11/dist-packages/keras/src/layers/convolutional/base_conv.py:107: UserWarning: Do not pass an `input_shape`/`input_dim` argument to a layer. When using Sequential models, prefer using an `Input(shape)` object as the first layer in the model instead.\n",
            "  super().__init__(activity_regularizer=activity_regularizer, **kwargs)\n"
          ]
        },
        {
          "output_type": "stream",
          "name": "stdout",
          "text": [
            "Epoch 1/5\n",
            "\u001b[1m1875/1875\u001b[0m \u001b[32m━━━━━━━━━━━━━━━━━━━━\u001b[0m\u001b[37m\u001b[0m \u001b[1m59s\u001b[0m 30ms/step - accuracy: 0.9084 - loss: 0.2927 - val_accuracy: 0.9857 - val_loss: 0.0423\n",
            "Epoch 2/5\n",
            "\u001b[1m1875/1875\u001b[0m \u001b[32m━━━━━━━━━━━━━━━━━━━━\u001b[0m\u001b[37m\u001b[0m \u001b[1m66s\u001b[0m 35ms/step - accuracy: 0.9860 - loss: 0.0447 - val_accuracy: 0.9847 - val_loss: 0.0433\n",
            "Epoch 3/5\n",
            "\u001b[1m1875/1875\u001b[0m \u001b[32m━━━━━━━━━━━━━━━━━━━━\u001b[0m\u001b[37m\u001b[0m \u001b[1m75s\u001b[0m 32ms/step - accuracy: 0.9909 - loss: 0.0288 - val_accuracy: 0.9887 - val_loss: 0.0358\n",
            "Epoch 4/5\n",
            "\u001b[1m1875/1875\u001b[0m \u001b[32m━━━━━━━━━━━━━━━━━━━━\u001b[0m\u001b[37m\u001b[0m \u001b[1m81s\u001b[0m 31ms/step - accuracy: 0.9935 - loss: 0.0193 - val_accuracy: 0.9896 - val_loss: 0.0321\n",
            "Epoch 5/5\n",
            "\u001b[1m1875/1875\u001b[0m \u001b[32m━━━━━━━━━━━━━━━━━━━━\u001b[0m\u001b[37m\u001b[0m \u001b[1m58s\u001b[0m 31ms/step - accuracy: 0.9961 - loss: 0.0134 - val_accuracy: 0.9903 - val_loss: 0.0309\n"
          ]
        },
        {
          "output_type": "stream",
          "name": "stderr",
          "text": [
            "WARNING:absl:You are saving your model as an HDF5 file via `model.save()` or `keras.saving.save_model(model)`. This file format is considered legacy. We recommend using instead the native Keras format, e.g. `model.save('my_model.keras')` or `keras.saving.save_model(model, 'my_model.keras')`. \n",
            "WARNING:absl:Compiled the loaded model, but the compiled metrics have yet to be built. `model.compile_metrics` will be empty until you train or evaluate the model.\n"
          ]
        },
        {
          "output_type": "stream",
          "name": "stdout",
          "text": [
            "✅ Model saved as /content/drive/MyDrive/dataset/mnist_model.h5\n",
            "✅ Model loaded successfully\n",
            "\u001b[1m313/313\u001b[0m \u001b[32m━━━━━━━━━━━━━━━━━━━━\u001b[0m\u001b[37m\u001b[0m \u001b[1m3s\u001b[0m 8ms/step\n",
            "📌 Accuracy: 0.9903\n",
            "📌 Precision: 0.9903\n",
            "📌 Recall: 0.9902\n",
            "📌 F1 Score: 0.9903\n"
          ]
        },
        {
          "output_type": "display_data",
          "data": {
            "text/plain": [
              "<Figure size 800x600 with 2 Axes>"
            ],
            "image/png": "[encoded data removed]"
          },
          "metadata": {}
        }
      ]
    },
    {
      "cell_type": "markdown",
      "source": [
        "**Conclusion and Result Visulaization**"
      ],
      "metadata": {
        "id": "ffTHUJy_OeTl"
      }
    },
    {
      "cell_type": "markdown",
      "source": [
        "**Declaration**\n",
        "\n",
        "I, [Your Name], confirm that the work submitted in this assignment is my own and has been completed following academic integrity guidelines. The code is uploaded on my GitHub repository account, and the repository link is provided below:\n",
        "\n",
        "GitHub Repository Link: [Insert GitHub Link]\n",
        "\n",
        "Signature: [Full Name]"
      ],
      "metadata": {
        "id": "24O7V4AmOsF8"
      }
    },
    {
      "cell_type": "markdown",
      "source": [
        "**Submission Checklist**\n",
        "\n",
        "✔ Research paper details and summary\n",
        "\n",
        "✔ Code file (Python Notebook or Script)\n",
        "\n",
        "✔ Dataset or link to the dataset\n",
        "\n",
        "✔ Visualizations (if applicable)\n",
        "\n",
        "✔ Screenshots of model performance metrics\n",
        "\n",
        "✔ Readme File\n",
        "\n",
        "✔ Comparison with research paper results"
      ],
      "metadata": {
        "id": "zioOSgLJOwHM"
      }
    },
    {
      "cell_type": "code",
      "source": [],
      "metadata": {
        "id": "rZObclKuO7c7"
      },
      "execution_count": null,
      "outputs": []
    },
    {
      "cell_type": "code",
      "source": [],
      "metadata": {
        "id": "caYesOyXO7Zq"
      },
      "execution_count": null,
      "outputs": []
    }
  ]
}